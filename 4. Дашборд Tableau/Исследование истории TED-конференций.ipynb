{
 "cells": [
  {
   "cell_type": "markdown",
   "id": "498489f6",
   "metadata": {},
   "source": [
    "# Исследование истории TED-конференций"
   ]
  },
  {
   "cell_type": "markdown",
   "id": "b862543e",
   "metadata": {},
   "source": [
    "## Описание проекта\n",
    "\n",
    "Создаем дашборды в Tableau, чтобы исследовать историю TED-конференций.  TED - это организация, проводящая конференции с выступлениями на разные темы. Среди спикеров были Бенуа Мандельброт, Марвин Минский, Дана Ньяд и Ларри Пейдж. Но были и неоднозначные выступления, например, Рэнди Пауэлла и Элизабет Холмс.\n",
    "\n",
    "**Цель проекта:**\n",
    "* Анализировать историю TED-конференций и визуализировать данные.\n",
    "\n",
    "**Задачи:**\n",
    "* Подготовить данные\n",
    "* Создать два дашборда: \"История выступлений\" и \"Тематики выступлений\"\n",
    "* Провести анализ данных и ответить на вопросы."
   ]
  },
  {
   "cell_type": "markdown",
   "id": "aae4e112",
   "metadata": {},
   "source": [
    "**Описание данных**\n",
    "\n",
    "Файлы tableau_project_data_1.csv, tableau_project_data_2.csv, tableau_project_data_3.csv хранят данные выступлений. У них одинаковая структура:\n",
    "- talk_id — идентификатор выступления;\n",
    "- url — ссылка на запись выступления;\n",
    "- title — название выступления;\n",
    "- description — краткое описание;\n",
    "- film_date — дата записи выступления;\n",
    "- duration — длительность в секундах;\n",
    "- views — количество просмотров;\n",
    "- main_tag — основная категория, к которой относится выступление;\n",
    "- speaker_id — уникальный идентификатор автора выступления;\n",
    "- laughter_count — количество раз, когда аудитория смеялась в ходе выступления;\n",
    "- applause_count — количество раз, когда аудитория аплодировала в ходе выступления;\n",
    "- language — язык, на котором велось выступление;\n",
    "- event_id — уникальный идентификатор конференции.\n",
    "\n",
    "Файл tableau_project_event_dict.csv — справочник конференций. Описание таблицы:\n",
    "- conf_id — уникальный идентификатор конференции;\n",
    "- event — название конференции;\n",
    "- country — страна проведения конференции.\n",
    "\n",
    "Файл tableau_project_speakers_dict.csv — справочник авторов выступления. Описание таблицы:\n",
    "- author_id — уникальный идентификатор автора выступления;\n",
    "- speaker_name — имя автора;\n",
    "- speaker_occupation — профессиональная область автора;\n",
    "- speaker_description — описание профессиональной деятельности автора.\n",
    "\n",
    "\n"
   ]
  },
  {
   "cell_type": "markdown",
   "id": "5dd45cf9",
   "metadata": {},
   "source": [
    "В этом проекте исследование истории TED-конференций проводится с помощью BI системы Tableau.\n",
    "\n",
    "[Ссылка на проект.](https://public.tableau.com/views/ProjectTableau_17226282699110/ED?:language=en-US&publish=yes&:sid=&:redirect=auth&:display_count=n&:origin=viz_share_link)"
   ]
  }
 ],
 "metadata": {
  "kernelspec": {
   "display_name": "Python 3 (ipykernel)",
   "language": "python",
   "name": "python3"
  },
  "language_info": {
   "codemirror_mode": {
    "name": "ipython",
    "version": 3
   },
   "file_extension": ".py",
   "mimetype": "text/x-python",
   "name": "python",
   "nbconvert_exporter": "python",
   "pygments_lexer": "ipython3",
   "version": "3.11.9"
  },
  "toc": {
   "base_numbering": 1,
   "nav_menu": {},
   "number_sections": false,
   "sideBar": true,
   "skip_h1_title": true,
   "title_cell": "Table of Contents",
   "title_sidebar": "Contents",
   "toc_cell": false,
   "toc_position": {},
   "toc_section_display": true,
   "toc_window_display": false
  }
 },
 "nbformat": 4,
 "nbformat_minor": 5
}
