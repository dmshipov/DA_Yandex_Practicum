{
 "cells": [
  {
   "cell_type": "markdown",
   "metadata": {},
   "source": [
    "# Проект по SQL: Анализ пользователей сервиса чтения книг\n",
    "\n",
    "**Описание проекта:**\n",
    "\n",
    "Мир изменился с приходом коронавируса. Люди стали проводить больше времени дома, и чтение книг стало популярным времяпрепровождением. Компания, чтобы быть в тренде, купила большой сервис для чтения книг по подписке. \n",
    "\n",
    "**Цель проекта:**\n",
    "\n",
    "Изучить базу данных сервиса, чтобы понять потребности пользователей и сформулировать ценностное предложение для нового продукта. \n",
    "\n",
    "**Задачи:**\n",
    "\n",
    "* Посчить, сколько книг вышло после 1 января 2000 года.\n",
    "* Для каждой книги посчитать количество обзоров и среднюю оценку.\n",
    "* Определить издательство, которое выпустило наибольшее число книг толще 50 страниц.\n",
    "* Определить автора с самой высокой средней оценкой книг — учитывать только книги с 50 и более оценками.\n",
    "* Посчитать среднее количество обзоров от пользователей, которые поставили больше 48 оценок."
   ]
  },
  {
   "cell_type": "markdown",
   "metadata": {},
   "source": [
    "**План работы:**\n",
    "\n",
    "- Подготовка данных\n",
    "- SQL запросы\n",
    "- Общий вывод"
   ]
  },
  {
   "attachments": {},
   "cell_type": "markdown",
   "metadata": {},
   "source": [
    "**Описание данных:**\n",
    "\n",
    "**Таблица** `books`\n",
    "\n",
    "Содержит данные о книгах:\n",
    "\n",
    "* `book_id` — идентификатор книги;\n",
    "* `author_id` — идентификатор автора;\n",
    "* `title` — название книги;\n",
    "* `num_pages` — количество страниц;\n",
    "* `publication_date` — дата публикации книги;\n",
    "* `publisher_id` — идентификатор издателя.\n",
    "\n",
    "**Таблица** `authors`\n",
    "\n",
    "Содержит данные об авторах:\n",
    "* `author_id` — идентификатор автора;\n",
    "* `author` — имя автора.\n",
    "\n",
    "**Таблица** `publishers`\n",
    "\n",
    "Содержит данные об издательствах:\n",
    "* `publisher_id` — идентификатор издательства;\n",
    "* `publisher` — название издательства;\n",
    "\n",
    "**Таблица** `ratings`\n",
    "\n",
    "Содержит данные о пользовательских оценках книг:\n",
    "* `rating_id` — идентификатор оценки;\n",
    "* `book_id` — идентификатор книги;\n",
    "* `username` — имя пользователя, оставившего оценку;\n",
    "* `rating` — оценка книги.\n",
    "\n",
    "**Таблица** `reviews`\n",
    "\n",
    "Содержит данные о пользовательских обзорах:\n",
    "* `review_id` — идентификатор обзора;\n",
    "* `book_id` — идентификатор книги;\n",
    "* `username` — имя автора обзора;\n",
    "* `text` — текст обзора."
   ]
  },
  {
   "cell_type": "markdown",
   "metadata": {},
   "source": [
    "## Подготовка данных"
   ]
  },
  {
   "cell_type": "markdown",
   "metadata": {},
   "source": [
    "#### Импортируем необходимые библиотеки"
   ]
  },
  {
   "cell_type": "code",
   "execution_count": 1,
   "metadata": {},
   "outputs": [],
   "source": [
    "# импортируем библиотеки\n",
    "import pandas as pd\n",
    "from sqlalchemy import text, create_engine\n",
    "import datetime"
   ]
  },
  {
   "cell_type": "markdown",
   "metadata": {},
   "source": [
    "#### Подключимся к базе данных"
   ]
  },
  {
   "cell_type": "code",
   "execution_count": 2,
   "metadata": {},
   "outputs": [
    {
     "data": {
      "text/html": [
       "<div>\n",
       "<style scoped>\n",
       "    .dataframe tbody tr th:only-of-type {\n",
       "        vertical-align: middle;\n",
       "    }\n",
       "\n",
       "    .dataframe tbody tr th {\n",
       "        vertical-align: top;\n",
       "    }\n",
       "\n",
       "    .dataframe thead th {\n",
       "        text-align: right;\n",
       "    }\n",
       "</style>\n",
       "<table border=\"1\" class=\"dataframe\">\n",
       "  <thead>\n",
       "    <tr style=\"text-align: right;\">\n",
       "      <th></th>\n",
       "      <th>book_id</th>\n",
       "      <th>author_id</th>\n",
       "      <th>title</th>\n",
       "      <th>num_pages</th>\n",
       "      <th>publication_date</th>\n",
       "      <th>publisher_id</th>\n",
       "    </tr>\n",
       "  </thead>\n",
       "  <tbody>\n",
       "    <tr>\n",
       "      <th>0</th>\n",
       "      <td>1</td>\n",
       "      <td>546</td>\n",
       "      <td>'Salem's Lot</td>\n",
       "      <td>594</td>\n",
       "      <td>2005-11-01</td>\n",
       "      <td>93</td>\n",
       "    </tr>\n",
       "    <tr>\n",
       "      <th>1</th>\n",
       "      <td>2</td>\n",
       "      <td>465</td>\n",
       "      <td>1 000 Places to See Before You Die</td>\n",
       "      <td>992</td>\n",
       "      <td>2003-05-22</td>\n",
       "      <td>336</td>\n",
       "    </tr>\n",
       "    <tr>\n",
       "      <th>2</th>\n",
       "      <td>3</td>\n",
       "      <td>407</td>\n",
       "      <td>13 Little Blue Envelopes (Little Blue Envelope...</td>\n",
       "      <td>322</td>\n",
       "      <td>2010-12-21</td>\n",
       "      <td>135</td>\n",
       "    </tr>\n",
       "    <tr>\n",
       "      <th>3</th>\n",
       "      <td>4</td>\n",
       "      <td>82</td>\n",
       "      <td>1491: New Revelations of the Americas Before C...</td>\n",
       "      <td>541</td>\n",
       "      <td>2006-10-10</td>\n",
       "      <td>309</td>\n",
       "    </tr>\n",
       "    <tr>\n",
       "      <th>4</th>\n",
       "      <td>5</td>\n",
       "      <td>125</td>\n",
       "      <td>1776</td>\n",
       "      <td>386</td>\n",
       "      <td>2006-07-04</td>\n",
       "      <td>268</td>\n",
       "    </tr>\n",
       "  </tbody>\n",
       "</table>\n",
       "</div>"
      ],
      "text/plain": [
       "   book_id  author_id                                              title  \\\n",
       "0        1        546                                       'Salem's Lot   \n",
       "1        2        465                 1 000 Places to See Before You Die   \n",
       "2        3        407  13 Little Blue Envelopes (Little Blue Envelope...   \n",
       "3        4         82  1491: New Revelations of the Americas Before C...   \n",
       "4        5        125                                               1776   \n",
       "\n",
       "   num_pages publication_date  publisher_id  \n",
       "0        594       2005-11-01            93  \n",
       "1        992       2003-05-22           336  \n",
       "2        322       2010-12-21           135  \n",
       "3        541       2006-10-10           309  \n",
       "4        386       2006-07-04           268  "
      ]
     },
     "execution_count": 2,
     "metadata": {},
     "output_type": "execute_result"
    }
   ],
   "source": [
    "# устанавливаем параметры\n",
    "db_config = {'user': 'praktikum_student', # имя пользователя\n",
    "'pwd': 'Sdf4$2;d-d30pp', # пароль\n",
    "'host': 'rc1b-wcoijxj3yxfsf3fs.mdb.yandexcloud.net',\n",
    "'port': 6432, # порт подключения\n",
    "'db': 'data-analyst-final-project-db'} # название базы данных\n",
    "connection_string = 'postgresql://{user}:{pwd}@{host}:{port}/{db}'.format(**db_config)\n",
    "# сохраняем коннектор\n",
    "engine = create_engine(connection_string, connect_args={'sslmode':'require'})\n",
    "\n",
    "# чтобы выполнить SQL-запрос, используем Pandas\n",
    "query = '''SELECT * FROM books LIMIT 5'''\n",
    "con=engine.connect()\n",
    "pd.io.sql.read_sql(sql=text(query), con = con)\n"
   ]
  },
  {
   "cell_type": "markdown",
   "metadata": {},
   "source": [
    "#### Проверим, все ли данные в таблице \"books\" актуальны."
   ]
  },
  {
   "cell_type": "code",
   "execution_count": 3,
   "metadata": {},
   "outputs": [
    {
     "name": "stdout",
     "output_type": "stream",
     "text": [
      "\n",
      "Информация о таблице 'books':\n",
      "\n",
      "                  Пропущенные значения  Дубликаты Типы данных\n",
      "book_id                              0          0       int64\n",
      "author_id                            0          0       int64\n",
      "title                                0          0      object\n",
      "num_pages                            0          0       int64\n",
      "publication_date                     0          0      object\n",
      "publisher_id                         0          0       int64\n",
      "\n",
      "Информация о таблице 'authors':\n",
      "\n",
      "           Пропущенные значения  Дубликаты Типы данных\n",
      "author_id                     0          0       int64\n",
      "author                        0          0      object\n",
      "\n",
      "Информация о таблице 'publishers':\n",
      "\n",
      "              Пропущенные значения  Дубликаты Типы данных\n",
      "publisher_id                     0          0       int64\n",
      "publisher                        0          0      object\n",
      "\n",
      "Информация о таблице 'ratings':\n",
      "\n",
      "           Пропущенные значения  Дубликаты Типы данных\n",
      "rating_id                     0          0       int64\n",
      "book_id                       0          0       int64\n",
      "username                      0          0      object\n",
      "rating                        0          0       int64\n",
      "\n",
      "Информация о таблице 'reviews':\n",
      "\n",
      "           Пропущенные значения  Дубликаты Типы данных\n",
      "review_id                     0          0       int64\n",
      "book_id                       0          0       int64\n",
      "username                      0          0      object\n",
      "text                          0          0      object\n"
     ]
    }
   ],
   "source": [
    "#  Читаем все данные из таблиц \n",
    "books_df = pd.io.sql.read_sql(sql='SELECT * FROM books', con=con)\n",
    "authors_df = pd.io.sql.read_sql(sql='SELECT * FROM authors', con=con)\n",
    "publishers_df = pd.io.sql.read_sql(sql='SELECT * FROM publishers', con=con)\n",
    "ratings_df = pd.io.sql.read_sql(sql='SELECT * FROM ratings', con=con)\n",
    "reviews_df = pd.io.sql.read_sql(sql='SELECT * FROM reviews', con=con)\n",
    "\n",
    "#  Создание списка кортежей с названием таблицы и DataFrame\n",
    "tables = [(\"books\", books_df), (\"authors\", authors_df), (\"publishers\", publishers_df), \n",
    "          (\"ratings\", ratings_df), (\"reviews\", reviews_df)]\n",
    "\n",
    "#  Проверка каждой таблицы\n",
    "for table_name, df in tables:\n",
    "    #  Проверка пропущенных значений\n",
    "    missing_values = df.isnull().sum()\n",
    "    #  Проверка дубликатов\n",
    "    duplicates = df.duplicated().sum()\n",
    "    #  Проверка типов данных\n",
    "    data_types = df.dtypes\n",
    "    #  Создание таблицы с информацией\n",
    "    table_info = pd.DataFrame({\n",
    "        \"Пропущенные значения\": missing_values,\n",
    "        \"Дубликаты\": duplicates,\n",
    "        \"Типы данных\": data_types\n",
    "    })\n",
    "    print(f\"\\nИнформация о таблице '{table_name}':\\n\")\n",
    "    print(table_info.to_string())"
   ]
  },
  {
   "cell_type": "markdown",
   "metadata": {},
   "source": [
    "* Ни одного пропущенного значения.\n",
    "* Нет дубликатов.\n",
    "* Все типы данных корректные."
   ]
  },
  {
   "cell_type": "markdown",
   "metadata": {},
   "source": [
    "#### Убедимся, что все книги, выпущенные после 2000 года, имеют корректные данные"
   ]
  },
  {
   "cell_type": "code",
   "execution_count": 4,
   "metadata": {},
   "outputs": [
    {
     "name": "stdout",
     "output_type": "stream",
     "text": [
      "Проверка корректности данных для книг, выпущенных после 2000 года:\n",
      "  - Все данные корректны!\n"
     ]
    }
   ],
   "source": [
    "# Преобразуем \"2000-01-01\" в дату\n",
    "cutoff_date = datetime.date(2000, 1, 1)\n",
    "\n",
    "# Фильтруем книги, выпущенные после 2000 года\n",
    "recent_books = books_df[books_df[\"publication_date\"] > cutoff_date]\n",
    "\n",
    "# Проверяем корректность данных\n",
    "print(\"Проверка корректности данных для книг, выпущенных после 2000 года:\")\n",
    "\n",
    "# Проверяем, есть ли пропущенные значения\n",
    "if recent_books[\"publication_date\"].isnull().any():\n",
    "    print(\"  - В столбце 'publication_date' есть пропущенные значения.\")\n",
    "\n",
    "# Проверяем, есть ли дубликаты \n",
    "if recent_books.duplicated().any():\n",
    "    print(\"  - В данных есть дубликаты.\")\n",
    "\n",
    "# Проверяем, все ли даты в правильном формате \n",
    "if not all(pd.to_datetime(recent_books[\"publication_date\"], errors='coerce').notna()):\n",
    "    print(\"  - В столбце 'publication_date' есть некорректные даты.\")\n",
    "\n",
    "# Если все проверки прошли успешно\n",
    "else:\n",
    "    print(\"  - Все данные корректны!\")"
   ]
  },
  {
   "cell_type": "code",
   "execution_count": 5,
   "metadata": {},
   "outputs": [
    {
     "name": "stdout",
     "output_type": "stream",
     "text": [
      "В таблице 'books' нет дубликатов.\n",
      "В таблице 'authors' нет дубликатов.\n",
      "В таблице 'publishers' нет дубликатов.\n",
      "В таблице 'ratings' нет дубликатов.\n",
      "В таблице 'reviews' нет дубликатов.\n"
     ]
    }
   ],
   "source": [
    "#  Проверяем наличие дубликатов в каждой таблице\n",
    "for table_name, df in [(\"books\", books_df), (\"authors\", authors_df), (\"publishers\", publishers_df), \n",
    "                       (\"ratings\", ratings_df), (\"reviews\", reviews_df)]:\n",
    "    if df.duplicated().any():\n",
    "        print(f\"В таблице '{table_name}' есть дубликаты.\")\n",
    "        print(df[df.duplicated(keep=False)])  #  Выводим дубликаты для анализа\n",
    "    else:\n",
    "        print(f\"В таблице '{table_name}' нет дубликатов.\")"
   ]
  },
  {
   "cell_type": "markdown",
   "metadata": {},
   "source": [
    "### Вывод"
   ]
  },
  {
   "cell_type": "markdown",
   "metadata": {},
   "source": [
    "***По итогам анализа таблиц в базе данных:***\n",
    "\n",
    "* **Наличие пропущенных значений:** \n",
    "    * В таблице `books`  пропущенные значения отсутсвуют;  \n",
    "    * В остальных таблицах (`authors`, `publishers`, `ratings`, `reviews`) пропущенных значений тоже нет.  \n",
    "* **Наличие дубликатов:** \n",
    "    * Во  **всех таблицах**  (`books`, `authors`, `publishers`, `ratings`, `reviews`) не найдено ни одного дубликата.\n",
    "* **Соответствие типов данных:** \n",
    "    * Убедились,  что типы данных во  **всех таблицах**  (`books`, `authors`, `publishers`, `ratings`, `reviews`)  **соответствуют ожидаемым**.\n",
    "* **Корректность данных:** \n",
    "    * Мы проверили данные для книг,  выпущенных после 2000 года,  и  **убедились в их корректности**."
   ]
  },
  {
   "cell_type": "markdown",
   "metadata": {},
   "source": [
    "## SQL запросы"
   ]
  },
  {
   "cell_type": "markdown",
   "metadata": {},
   "source": [
    "#### Задача 1:  Посчитаем количество книг,  вышедших после 1 января 2000 года."
   ]
  },
  {
   "cell_type": "code",
   "execution_count": 6,
   "metadata": {},
   "outputs": [
    {
     "data": {
      "text/html": [
       "<div>\n",
       "<style scoped>\n",
       "    .dataframe tbody tr th:only-of-type {\n",
       "        vertical-align: middle;\n",
       "    }\n",
       "\n",
       "    .dataframe tbody tr th {\n",
       "        vertical-align: top;\n",
       "    }\n",
       "\n",
       "    .dataframe thead th {\n",
       "        text-align: right;\n",
       "    }\n",
       "</style>\n",
       "<table border=\"1\" class=\"dataframe\">\n",
       "  <thead>\n",
       "    <tr style=\"text-align: right;\">\n",
       "      <th></th>\n",
       "      <th>count</th>\n",
       "    </tr>\n",
       "  </thead>\n",
       "  <tbody>\n",
       "    <tr>\n",
       "      <th>0</th>\n",
       "      <td>821</td>\n",
       "    </tr>\n",
       "  </tbody>\n",
       "</table>\n",
       "</div>"
      ],
      "text/plain": [
       "   count\n",
       "0    821"
      ]
     },
     "execution_count": 6,
     "metadata": {},
     "output_type": "execute_result"
    }
   ],
   "source": [
    "# чтобы выполнить SQL-запрос, используем Pandas\n",
    "query = '''\n",
    "            SELECT \n",
    "                COUNT(*) \n",
    "            FROM \n",
    "                books \n",
    "            WHERE \n",
    "                publication_date >= '2000-01-01';\n",
    "        '''\n",
    "con=engine.connect()\n",
    "pd.io.sql.read_sql(sql=text(query), con = con)"
   ]
  },
  {
   "cell_type": "markdown",
   "metadata": {},
   "source": [
    "После 1 января 2000 года было выпущено 821 книга. Это говорит о том, что книжная индустрия активно развивается и продолжает радовать нас новыми произведениями. "
   ]
  },
  {
   "cell_type": "markdown",
   "metadata": {},
   "source": [
    "#### Задача 2:  Посчитаем количество обзоров и среднюю оценку для каждой книги."
   ]
  },
  {
   "cell_type": "code",
   "execution_count": 12,
   "metadata": {},
   "outputs": [
    {
     "data": {
      "text/html": [
       "<div>\n",
       "<style scoped>\n",
       "    .dataframe tbody tr th:only-of-type {\n",
       "        vertical-align: middle;\n",
       "    }\n",
       "\n",
       "    .dataframe tbody tr th {\n",
       "        vertical-align: top;\n",
       "    }\n",
       "\n",
       "    .dataframe thead th {\n",
       "        text-align: right;\n",
       "    }\n",
       "</style>\n",
       "<table border=\"1\" class=\"dataframe\">\n",
       "  <thead>\n",
       "    <tr style=\"text-align: right;\">\n",
       "      <th></th>\n",
       "      <th>book_id</th>\n",
       "      <th>title</th>\n",
       "      <th>num_reviews</th>\n",
       "      <th>avg_rating</th>\n",
       "      <th>reviews_cnt</th>\n",
       "      <th>total_reviews</th>\n",
       "      <th>percentage_difference</th>\n",
       "    </tr>\n",
       "  </thead>\n",
       "  <tbody>\n",
       "    <tr>\n",
       "      <th>0</th>\n",
       "      <td>948</td>\n",
       "      <td>Twilight (Twilight  #1)</td>\n",
       "      <td>1120</td>\n",
       "      <td>3.662500</td>\n",
       "      <td>7</td>\n",
       "      <td>2793</td>\n",
       "      <td>40.1</td>\n",
       "    </tr>\n",
       "    <tr>\n",
       "      <th>1</th>\n",
       "      <td>750</td>\n",
       "      <td>The Hobbit  or There and Back Again</td>\n",
       "      <td>528</td>\n",
       "      <td>4.125000</td>\n",
       "      <td>6</td>\n",
       "      <td>2793</td>\n",
       "      <td>18.9</td>\n",
       "    </tr>\n",
       "    <tr>\n",
       "      <th>2</th>\n",
       "      <td>673</td>\n",
       "      <td>The Catcher in the Rye</td>\n",
       "      <td>516</td>\n",
       "      <td>3.825581</td>\n",
       "      <td>6</td>\n",
       "      <td>2793</td>\n",
       "      <td>18.5</td>\n",
       "    </tr>\n",
       "    <tr>\n",
       "      <th>3</th>\n",
       "      <td>302</td>\n",
       "      <td>Harry Potter and the Prisoner of Azkaban (Harr...</td>\n",
       "      <td>492</td>\n",
       "      <td>4.414634</td>\n",
       "      <td>6</td>\n",
       "      <td>2793</td>\n",
       "      <td>17.6</td>\n",
       "    </tr>\n",
       "    <tr>\n",
       "      <th>4</th>\n",
       "      <td>299</td>\n",
       "      <td>Harry Potter and the Chamber of Secrets (Harry...</td>\n",
       "      <td>480</td>\n",
       "      <td>4.287500</td>\n",
       "      <td>6</td>\n",
       "      <td>2793</td>\n",
       "      <td>17.2</td>\n",
       "    </tr>\n",
       "    <tr>\n",
       "      <th>7</th>\n",
       "      <td>779</td>\n",
       "      <td>The Lightning Thief (Percy Jackson and the Oly...</td>\n",
       "      <td>372</td>\n",
       "      <td>4.080645</td>\n",
       "      <td>6</td>\n",
       "      <td>2793</td>\n",
       "      <td>13.3</td>\n",
       "    </tr>\n",
       "    <tr>\n",
       "      <th>12</th>\n",
       "      <td>696</td>\n",
       "      <td>The Da Vinci Code (Robert Langdon  #2)</td>\n",
       "      <td>354</td>\n",
       "      <td>3.830508</td>\n",
       "      <td>6</td>\n",
       "      <td>2793</td>\n",
       "      <td>12.7</td>\n",
       "    </tr>\n",
       "    <tr>\n",
       "      <th>13</th>\n",
       "      <td>627</td>\n",
       "      <td>The Alchemist</td>\n",
       "      <td>342</td>\n",
       "      <td>3.789474</td>\n",
       "      <td>6</td>\n",
       "      <td>2793</td>\n",
       "      <td>12.2</td>\n",
       "    </tr>\n",
       "    <tr>\n",
       "      <th>14</th>\n",
       "      <td>733</td>\n",
       "      <td>The Giver (The Giver  #1)</td>\n",
       "      <td>336</td>\n",
       "      <td>3.750000</td>\n",
       "      <td>6</td>\n",
       "      <td>2793</td>\n",
       "      <td>12.0</td>\n",
       "    </tr>\n",
       "    <tr>\n",
       "      <th>5</th>\n",
       "      <td>75</td>\n",
       "      <td>Angels &amp; Demons (Robert Langdon  #1)</td>\n",
       "      <td>420</td>\n",
       "      <td>3.678571</td>\n",
       "      <td>5</td>\n",
       "      <td>2793</td>\n",
       "      <td>15.0</td>\n",
       "    </tr>\n",
       "    <tr>\n",
       "      <th>6</th>\n",
       "      <td>301</td>\n",
       "      <td>Harry Potter and the Order of the Phoenix (Har...</td>\n",
       "      <td>375</td>\n",
       "      <td>4.186667</td>\n",
       "      <td>5</td>\n",
       "      <td>2793</td>\n",
       "      <td>13.4</td>\n",
       "    </tr>\n",
       "    <tr>\n",
       "      <th>8</th>\n",
       "      <td>722</td>\n",
       "      <td>The Fellowship of the Ring (The Lord of the Ri...</td>\n",
       "      <td>370</td>\n",
       "      <td>4.391892</td>\n",
       "      <td>5</td>\n",
       "      <td>2793</td>\n",
       "      <td>13.2</td>\n",
       "    </tr>\n",
       "    <tr>\n",
       "      <th>9</th>\n",
       "      <td>79</td>\n",
       "      <td>Animal Farm</td>\n",
       "      <td>370</td>\n",
       "      <td>3.729730</td>\n",
       "      <td>5</td>\n",
       "      <td>2793</td>\n",
       "      <td>13.2</td>\n",
       "    </tr>\n",
       "    <tr>\n",
       "      <th>10</th>\n",
       "      <td>300</td>\n",
       "      <td>Harry Potter and the Half-Blood Prince (Harry ...</td>\n",
       "      <td>365</td>\n",
       "      <td>4.246575</td>\n",
       "      <td>5</td>\n",
       "      <td>2793</td>\n",
       "      <td>13.1</td>\n",
       "    </tr>\n",
       "    <tr>\n",
       "      <th>11</th>\n",
       "      <td>405</td>\n",
       "      <td>Lord of the Flies</td>\n",
       "      <td>355</td>\n",
       "      <td>3.901408</td>\n",
       "      <td>5</td>\n",
       "      <td>2793</td>\n",
       "      <td>12.7</td>\n",
       "    </tr>\n",
       "  </tbody>\n",
       "</table>\n",
       "</div>"
      ],
      "text/plain": [
       "    book_id                                              title  num_reviews  \\\n",
       "0       948                            Twilight (Twilight  #1)         1120   \n",
       "1       750                The Hobbit  or There and Back Again          528   \n",
       "2       673                             The Catcher in the Rye          516   \n",
       "3       302  Harry Potter and the Prisoner of Azkaban (Harr...          492   \n",
       "4       299  Harry Potter and the Chamber of Secrets (Harry...          480   \n",
       "7       779  The Lightning Thief (Percy Jackson and the Oly...          372   \n",
       "12      696             The Da Vinci Code (Robert Langdon  #2)          354   \n",
       "13      627                                      The Alchemist          342   \n",
       "14      733                          The Giver (The Giver  #1)          336   \n",
       "5        75               Angels & Demons (Robert Langdon  #1)          420   \n",
       "6       301  Harry Potter and the Order of the Phoenix (Har...          375   \n",
       "8       722  The Fellowship of the Ring (The Lord of the Ri...          370   \n",
       "9        79                                        Animal Farm          370   \n",
       "10      300  Harry Potter and the Half-Blood Prince (Harry ...          365   \n",
       "11      405                                  Lord of the Flies          355   \n",
       "\n",
       "    avg_rating  reviews_cnt  total_reviews  percentage_difference  \n",
       "0     3.662500            7           2793                   40.1  \n",
       "1     4.125000            6           2793                   18.9  \n",
       "2     3.825581            6           2793                   18.5  \n",
       "3     4.414634            6           2793                   17.6  \n",
       "4     4.287500            6           2793                   17.2  \n",
       "7     4.080645            6           2793                   13.3  \n",
       "12    3.830508            6           2793                   12.7  \n",
       "13    3.789474            6           2793                   12.2  \n",
       "14    3.750000            6           2793                   12.0  \n",
       "5     3.678571            5           2793                   15.0  \n",
       "6     4.186667            5           2793                   13.4  \n",
       "8     4.391892            5           2793                   13.2  \n",
       "9     3.729730            5           2793                   13.2  \n",
       "10    4.246575            5           2793                   13.1  \n",
       "11    3.901408            5           2793                   12.7  "
      ]
     },
     "execution_count": 12,
     "metadata": {},
     "output_type": "execute_result"
    }
   ],
   "source": [
    "query = '''\n",
    "SELECT \n",
    "    b.book_id, \n",
    "    b.title,\n",
    "    COUNT(r.review_id) AS num_reviews,\n",
    "    AVG(ra.rating) AS avg_rating,\n",
    "    (\n",
    "        SELECT COUNT(*) \n",
    "        FROM reviews \n",
    "        WHERE book_id = b.book_id\n",
    "    ) AS reviews_cnt,\n",
    "    (\n",
    "        SELECT COUNT(*) \n",
    "        FROM reviews \n",
    "    ) AS total_reviews,\n",
    "    (\n",
    "        ROUND((COUNT(r.review_id) * 100.0) / (SELECT COUNT(*) FROM reviews), 1)\n",
    "    ) AS percentage_difference\n",
    "FROM \n",
    "    books b\n",
    "LEFT JOIN \n",
    "    reviews r ON b.book_id = r.book_id\n",
    "LEFT JOIN \n",
    "    ratings ra ON b.book_id = ra.book_id\n",
    "GROUP BY \n",
    "    b.book_id, b.title\n",
    "ORDER BY \n",
    "    num_reviews DESC\n",
    "LIMIT 15;\n",
    "        '''\n",
    "con = engine.connect()\n",
    "pd.io.sql.read_sql(sql=text(query), con=con)"
   ]
  },
  {
   "cell_type": "code",
   "execution_count": 16,
   "metadata": {},
   "outputs": [
    {
     "data": {
      "text/html": [
       "<div>\n",
       "<style scoped>\n",
       "    .dataframe tbody tr th:only-of-type {\n",
       "        vertical-align: middle;\n",
       "    }\n",
       "\n",
       "    .dataframe tbody tr th {\n",
       "        vertical-align: top;\n",
       "    }\n",
       "\n",
       "    .dataframe thead th {\n",
       "        text-align: right;\n",
       "    }\n",
       "</style>\n",
       "<table border=\"1\" class=\"dataframe\">\n",
       "  <thead>\n",
       "    <tr style=\"text-align: right;\">\n",
       "      <th></th>\n",
       "      <th>book_id</th>\n",
       "      <th>title</th>\n",
       "      <th>num_reviews</th>\n",
       "      <th>avg_rating</th>\n",
       "      <th>reviews_cnt</th>\n",
       "      <th>total_reviews</th>\n",
       "      <th>percentage_difference</th>\n",
       "    </tr>\n",
       "  </thead>\n",
       "  <tbody>\n",
       "    <tr>\n",
       "      <th>0</th>\n",
       "      <td>967</td>\n",
       "      <td>Welcome to Temptation (Dempseys  #1)</td>\n",
       "      <td>4</td>\n",
       "      <td>5.0</td>\n",
       "      <td>2</td>\n",
       "      <td>2793</td>\n",
       "      <td>0.1</td>\n",
       "    </tr>\n",
       "    <tr>\n",
       "      <th>1</th>\n",
       "      <td>902</td>\n",
       "      <td>The War of Art: Break Through the Blocks &amp; Win...</td>\n",
       "      <td>4</td>\n",
       "      <td>5.0</td>\n",
       "      <td>2</td>\n",
       "      <td>2793</td>\n",
       "      <td>0.1</td>\n",
       "    </tr>\n",
       "    <tr>\n",
       "      <th>2</th>\n",
       "      <td>224</td>\n",
       "      <td>Evening Class</td>\n",
       "      <td>4</td>\n",
       "      <td>5.0</td>\n",
       "      <td>2</td>\n",
       "      <td>2793</td>\n",
       "      <td>0.1</td>\n",
       "    </tr>\n",
       "    <tr>\n",
       "      <th>3</th>\n",
       "      <td>732</td>\n",
       "      <td>The Ghost Map: The Story of London's Most Terr...</td>\n",
       "      <td>4</td>\n",
       "      <td>5.0</td>\n",
       "      <td>2</td>\n",
       "      <td>2793</td>\n",
       "      <td>0.1</td>\n",
       "    </tr>\n",
       "    <tr>\n",
       "      <th>4</th>\n",
       "      <td>441</td>\n",
       "      <td>Misty of Chincoteague (Misty  #1)</td>\n",
       "      <td>4</td>\n",
       "      <td>5.0</td>\n",
       "      <td>2</td>\n",
       "      <td>2793</td>\n",
       "      <td>0.1</td>\n",
       "    </tr>\n",
       "    <tr>\n",
       "      <th>5</th>\n",
       "      <td>444</td>\n",
       "      <td>Moneyball: The Art of Winning an Unfair Game</td>\n",
       "      <td>9</td>\n",
       "      <td>5.0</td>\n",
       "      <td>3</td>\n",
       "      <td>2793</td>\n",
       "      <td>0.3</td>\n",
       "    </tr>\n",
       "    <tr>\n",
       "      <th>6</th>\n",
       "      <td>699</td>\n",
       "      <td>The Demon-Haunted World: Science as a Candle i...</td>\n",
       "      <td>4</td>\n",
       "      <td>5.0</td>\n",
       "      <td>2</td>\n",
       "      <td>2793</td>\n",
       "      <td>0.1</td>\n",
       "    </tr>\n",
       "    <tr>\n",
       "      <th>7</th>\n",
       "      <td>182</td>\n",
       "      <td>Dead Souls</td>\n",
       "      <td>4</td>\n",
       "      <td>5.0</td>\n",
       "      <td>2</td>\n",
       "      <td>2793</td>\n",
       "      <td>0.1</td>\n",
       "    </tr>\n",
       "    <tr>\n",
       "      <th>8</th>\n",
       "      <td>390</td>\n",
       "      <td>Light in August</td>\n",
       "      <td>4</td>\n",
       "      <td>5.0</td>\n",
       "      <td>2</td>\n",
       "      <td>2793</td>\n",
       "      <td>0.1</td>\n",
       "    </tr>\n",
       "    <tr>\n",
       "      <th>9</th>\n",
       "      <td>418</td>\n",
       "      <td>March</td>\n",
       "      <td>4</td>\n",
       "      <td>5.0</td>\n",
       "      <td>2</td>\n",
       "      <td>2793</td>\n",
       "      <td>0.1</td>\n",
       "    </tr>\n",
       "    <tr>\n",
       "      <th>10</th>\n",
       "      <td>972</td>\n",
       "      <td>Wherever You Go  There You Are: Mindfulness Me...</td>\n",
       "      <td>4</td>\n",
       "      <td>5.0</td>\n",
       "      <td>2</td>\n",
       "      <td>2793</td>\n",
       "      <td>0.1</td>\n",
       "    </tr>\n",
       "    <tr>\n",
       "      <th>11</th>\n",
       "      <td>297</td>\n",
       "      <td>Hard Times</td>\n",
       "      <td>4</td>\n",
       "      <td>5.0</td>\n",
       "      <td>2</td>\n",
       "      <td>2793</td>\n",
       "      <td>0.1</td>\n",
       "    </tr>\n",
       "    <tr>\n",
       "      <th>12</th>\n",
       "      <td>57</td>\n",
       "      <td>Act of Treason (Mitch Rapp  #9)</td>\n",
       "      <td>4</td>\n",
       "      <td>5.0</td>\n",
       "      <td>2</td>\n",
       "      <td>2793</td>\n",
       "      <td>0.1</td>\n",
       "    </tr>\n",
       "    <tr>\n",
       "      <th>13</th>\n",
       "      <td>469</td>\n",
       "      <td>Neil Gaiman's Neverwhere</td>\n",
       "      <td>4</td>\n",
       "      <td>5.0</td>\n",
       "      <td>2</td>\n",
       "      <td>2793</td>\n",
       "      <td>0.1</td>\n",
       "    </tr>\n",
       "    <tr>\n",
       "      <th>14</th>\n",
       "      <td>518</td>\n",
       "      <td>Pop Goes the Weasel (Alex Cross  #5)</td>\n",
       "      <td>4</td>\n",
       "      <td>5.0</td>\n",
       "      <td>2</td>\n",
       "      <td>2793</td>\n",
       "      <td>0.1</td>\n",
       "    </tr>\n",
       "  </tbody>\n",
       "</table>\n",
       "</div>"
      ],
      "text/plain": [
       "    book_id                                              title  num_reviews  \\\n",
       "0       967               Welcome to Temptation (Dempseys  #1)            4   \n",
       "1       902  The War of Art: Break Through the Blocks & Win...            4   \n",
       "2       224                                      Evening Class            4   \n",
       "3       732  The Ghost Map: The Story of London's Most Terr...            4   \n",
       "4       441                  Misty of Chincoteague (Misty  #1)            4   \n",
       "5       444       Moneyball: The Art of Winning an Unfair Game            9   \n",
       "6       699  The Demon-Haunted World: Science as a Candle i...            4   \n",
       "7       182                                         Dead Souls            4   \n",
       "8       390                                    Light in August            4   \n",
       "9       418                                              March            4   \n",
       "10      972  Wherever You Go  There You Are: Mindfulness Me...            4   \n",
       "11      297                                         Hard Times            4   \n",
       "12       57                    Act of Treason (Mitch Rapp  #9)            4   \n",
       "13      469                           Neil Gaiman's Neverwhere            4   \n",
       "14      518               Pop Goes the Weasel (Alex Cross  #5)            4   \n",
       "\n",
       "    avg_rating  reviews_cnt  total_reviews  percentage_difference  \n",
       "0          5.0            2           2793                    0.1  \n",
       "1          5.0            2           2793                    0.1  \n",
       "2          5.0            2           2793                    0.1  \n",
       "3          5.0            2           2793                    0.1  \n",
       "4          5.0            2           2793                    0.1  \n",
       "5          5.0            3           2793                    0.3  \n",
       "6          5.0            2           2793                    0.1  \n",
       "7          5.0            2           2793                    0.1  \n",
       "8          5.0            2           2793                    0.1  \n",
       "9          5.0            2           2793                    0.1  \n",
       "10         5.0            2           2793                    0.1  \n",
       "11         5.0            2           2793                    0.1  \n",
       "12         5.0            2           2793                    0.1  \n",
       "13         5.0            2           2793                    0.1  \n",
       "14         5.0            2           2793                    0.1  "
      ]
     },
     "execution_count": 16,
     "metadata": {},
     "output_type": "execute_result"
    }
   ],
   "source": [
    "query = '''\n",
    "SELECT \n",
    "    b.book_id, \n",
    "    b.title,\n",
    "    COUNT(r.review_id) AS num_reviews,\n",
    "    AVG(ra.rating) AS avg_rating,\n",
    "    (\n",
    "        SELECT COUNT(*) \n",
    "        FROM reviews \n",
    "        WHERE book_id = b.book_id\n",
    "    ) AS reviews_cnt,\n",
    "    (\n",
    "        SELECT COUNT(*) \n",
    "        FROM reviews \n",
    "    ) AS total_reviews,\n",
    "    (\n",
    "        ROUND((COUNT(r.review_id) * 100.0) / (SELECT COUNT(*) FROM reviews), 1)\n",
    "    ) AS percentage_difference\n",
    "FROM \n",
    "    books b\n",
    "LEFT JOIN \n",
    "    reviews r ON b.book_id = r.book_id\n",
    "LEFT JOIN \n",
    "    ratings ra ON b.book_id = ra.book_id\n",
    "GROUP BY \n",
    "    b.book_id, b.title\n",
    "ORDER BY \n",
    "    avg_rating DESC\n",
    "LIMIT 15;\n",
    "        '''\n",
    "con = engine.connect()\n",
    "pd.io.sql.read_sql(sql=text(query), con=con)\n"
   ]
  },
  {
   "cell_type": "markdown",
   "metadata": {},
   "source": [
    "Анализ данных показал, что книга \"Twilight (Twilight #1)\" имеет наибольшее количество обзоров (7), а \"The Hobbit or There and Back Again\" - второе по величине (6). Интересно, что  \"Harry Potter and the Prisoner of Azkaban\" имеет самую высокую среднюю оценку (4.41).  В целом, можно заметить, что большинство книг имеют сравнительно небольшое количество отзывов, но  в то же время  и  достаточно высокую среднюю оценку."
   ]
  },
  {
   "cell_type": "markdown",
   "metadata": {},
   "source": [
    "#### Задача 3:  Найдем издательство, которое выпустило больше всего книг толще 50 страниц."
   ]
  },
  {
   "cell_type": "code",
   "execution_count": 9,
   "metadata": {},
   "outputs": [
    {
     "data": {
      "text/html": [
       "<div>\n",
       "<style scoped>\n",
       "    .dataframe tbody tr th:only-of-type {\n",
       "        vertical-align: middle;\n",
       "    }\n",
       "\n",
       "    .dataframe tbody tr th {\n",
       "        vertical-align: top;\n",
       "    }\n",
       "\n",
       "    .dataframe thead th {\n",
       "        text-align: right;\n",
       "    }\n",
       "</style>\n",
       "<table border=\"1\" class=\"dataframe\">\n",
       "  <thead>\n",
       "    <tr style=\"text-align: right;\">\n",
       "      <th></th>\n",
       "      <th>publisher</th>\n",
       "      <th>count_books</th>\n",
       "      <th>publisher_rank</th>\n",
       "    </tr>\n",
       "  </thead>\n",
       "  <tbody>\n",
       "    <tr>\n",
       "      <th>0</th>\n",
       "      <td>Penguin Books</td>\n",
       "      <td>42</td>\n",
       "      <td>1</td>\n",
       "    </tr>\n",
       "  </tbody>\n",
       "</table>\n",
       "</div>"
      ],
      "text/plain": [
       "       publisher  count_books  publisher_rank\n",
       "0  Penguin Books           42               1"
      ]
     },
     "execution_count": 9,
     "metadata": {},
     "output_type": "execute_result"
    }
   ],
   "source": [
    "query = '''\n",
    "            SELECT \n",
    "                p.publisher,\n",
    "                COUNT(b.book_id) AS count_books,\n",
    "            RANK() OVER (ORDER BY COUNT(b.book_id) DESC) AS publisher_rank\n",
    "            FROM \n",
    "                books b\n",
    "            JOIN \n",
    "                publishers p ON b.publisher_id = p.publisher_id\n",
    "            WHERE \n",
    "                b.num_pages > 50\n",
    "            GROUP BY \n",
    "                p.publisher\n",
    "            ORDER BY \n",
    "                COUNT(b.book_id) DESC\n",
    "            LIMIT 1;\n",
    "        '''\n",
    "con = engine.connect()\n",
    "pd.io.sql.read_sql(sql=text(query), con=con)\n"
   ]
  },
  {
   "cell_type": "markdown",
   "metadata": {},
   "source": [
    "Издательство **Penguin Books** выпустило больше всего книг (42) толще 50 страниц. "
   ]
  },
  {
   "cell_type": "markdown",
   "metadata": {},
   "source": [
    "#### Задача 4: Определим автора с самой высокой средней оценкой книг (с 50 и более оценками)."
   ]
  },
  {
   "cell_type": "code",
   "execution_count": 10,
   "metadata": {},
   "outputs": [
    {
     "data": {
      "text/html": [
       "<div>\n",
       "<style scoped>\n",
       "    .dataframe tbody tr th:only-of-type {\n",
       "        vertical-align: middle;\n",
       "    }\n",
       "\n",
       "    .dataframe tbody tr th {\n",
       "        vertical-align: top;\n",
       "    }\n",
       "\n",
       "    .dataframe thead th {\n",
       "        text-align: right;\n",
       "    }\n",
       "</style>\n",
       "<table border=\"1\" class=\"dataframe\">\n",
       "  <thead>\n",
       "    <tr style=\"text-align: right;\">\n",
       "      <th></th>\n",
       "      <th>author</th>\n",
       "      <th>avg_rating</th>\n",
       "      <th>cnt_ratings</th>\n",
       "    </tr>\n",
       "  </thead>\n",
       "  <tbody>\n",
       "    <tr>\n",
       "      <th>0</th>\n",
       "      <td>J.K. Rowling/Mary GrandPré</td>\n",
       "      <td>4.29</td>\n",
       "      <td>310</td>\n",
       "    </tr>\n",
       "    <tr>\n",
       "      <th>1</th>\n",
       "      <td>Markus Zusak/Cao Xuân Việt Khương</td>\n",
       "      <td>4.26</td>\n",
       "      <td>53</td>\n",
       "    </tr>\n",
       "    <tr>\n",
       "      <th>2</th>\n",
       "      <td>J.R.R. Tolkien</td>\n",
       "      <td>4.25</td>\n",
       "      <td>162</td>\n",
       "    </tr>\n",
       "    <tr>\n",
       "      <th>3</th>\n",
       "      <td>Louisa May Alcott</td>\n",
       "      <td>4.19</td>\n",
       "      <td>52</td>\n",
       "    </tr>\n",
       "    <tr>\n",
       "      <th>4</th>\n",
       "      <td>Rick Riordan</td>\n",
       "      <td>4.08</td>\n",
       "      <td>62</td>\n",
       "    </tr>\n",
       "    <tr>\n",
       "      <th>5</th>\n",
       "      <td>William Golding</td>\n",
       "      <td>3.90</td>\n",
       "      <td>71</td>\n",
       "    </tr>\n",
       "    <tr>\n",
       "      <th>6</th>\n",
       "      <td>J.D. Salinger</td>\n",
       "      <td>3.83</td>\n",
       "      <td>86</td>\n",
       "    </tr>\n",
       "    <tr>\n",
       "      <th>7</th>\n",
       "      <td>Paulo Coelho/Alan R. Clarke/Özdemir İnce</td>\n",
       "      <td>3.79</td>\n",
       "      <td>57</td>\n",
       "    </tr>\n",
       "    <tr>\n",
       "      <th>8</th>\n",
       "      <td>William Shakespeare/Paul Werstine/Barbara A. M...</td>\n",
       "      <td>3.79</td>\n",
       "      <td>66</td>\n",
       "    </tr>\n",
       "    <tr>\n",
       "      <th>9</th>\n",
       "      <td>Lois Lowry</td>\n",
       "      <td>3.75</td>\n",
       "      <td>56</td>\n",
       "    </tr>\n",
       "  </tbody>\n",
       "</table>\n",
       "</div>"
      ],
      "text/plain": [
       "                                              author  avg_rating  cnt_ratings\n",
       "0                         J.K. Rowling/Mary GrandPré        4.29          310\n",
       "1                  Markus Zusak/Cao Xuân Việt Khương        4.26           53\n",
       "2                                     J.R.R. Tolkien        4.25          162\n",
       "3                                  Louisa May Alcott        4.19           52\n",
       "4                                       Rick Riordan        4.08           62\n",
       "5                                    William Golding        3.90           71\n",
       "6                                      J.D. Salinger        3.83           86\n",
       "7           Paulo Coelho/Alan R. Clarke/Özdemir İnce        3.79           57\n",
       "8  William Shakespeare/Paul Werstine/Barbara A. M...        3.79           66\n",
       "9                                         Lois Lowry        3.75           56"
      ]
     },
     "execution_count": 10,
     "metadata": {},
     "output_type": "execute_result"
    }
   ],
   "source": [
    "# query = ''' \n",
    "#             SELECT \n",
    "#                 a.author,\n",
    "#                 ROUND(AVG(r.rating), 2) AS avg_rating,\n",
    "#                 COUNT(r.rating_id) AS num_ratings \n",
    "#             FROM \n",
    "#                 authors a\n",
    "#             JOIN \n",
    "#                 books b ON a.author_id = b.author_id\n",
    "#             JOIN \n",
    "#                 ratings r ON b.book_id = r.book_id\n",
    "#             GROUP BY \n",
    "#                 a.author_id\n",
    "#             HAVING \n",
    "#                 COUNT(r.rating_id) >= 50\n",
    "#             ORDER BY \n",
    "#                 AVG(r.rating) DESC\n",
    "#             LIMIT 10;\n",
    "#         '''\n",
    "# con = engine.connect()\n",
    "# pd.io.sql.read_sql(sql=text(query), con=con)\n",
    "\n",
    "query = ''' \n",
    "            WITH filtered AS(\n",
    "            SELECT DISTINCT book_id\n",
    "            FROM ratings\n",
    "            GROUP BY book_id\n",
    "            HAVING COUNT(rating_id) > 50\n",
    "            )\n",
    "            SELECT \n",
    "                a.author,\n",
    "                ROUND(AVG(r.rating), 2) AS avg_rating,\n",
    "                COUNT(r.rating_id) AS cnt_ratings \n",
    "            FROM \n",
    "                authors a\n",
    "            JOIN \n",
    "                books b ON a.author_id = b.author_id\n",
    "            JOIN \n",
    "                ratings r ON b.book_id = r.book_id\n",
    "            WHERE b.book_id IN (SELECT book_id FROM filtered)\n",
    "            GROUP BY \n",
    "                a.author_id\n",
    "            ORDER BY \n",
    "                AVG(r.rating) DESC\n",
    "            LIMIT 10;\n",
    "        '''\n",
    "con = engine.connect()\n",
    "pd.io.sql.read_sql(sql=text(query), con=con)"
   ]
  },
  {
   "cell_type": "markdown",
   "metadata": {},
   "source": [
    "Автор **J.K. Rowling/Mary GrandPré** имеет самую высокую среднюю оценку (4.29) среди авторов, чьи книги получили не менее 50 оценок. "
   ]
  },
  {
   "cell_type": "markdown",
   "metadata": {},
   "source": [
    "#### Задача 5: Посчитаем среднее количество обзоров от пользователей, которые поставили больше 48 оценок."
   ]
  },
  {
   "cell_type": "code",
   "execution_count": 11,
   "metadata": {},
   "outputs": [
    {
     "name": "stdout",
     "output_type": "stream",
     "text": [
      "Cреднее количество обзоров от пользователей, которые поставили больше 48 оценок, составляет 24.\n"
     ]
    }
   ],
   "source": [
    "query = \"\"\"\n",
    "            SELECT \n",
    "                COUNT(rv.review_id) / COUNT(DISTINCT rv.username) AS ratio\n",
    "            FROM \n",
    "                reviews AS rv\n",
    "            JOIN \n",
    "                books AS b ON rv.book_id = b.book_id\n",
    "            WHERE \n",
    "                rv.username IN (\n",
    "            SELECT \n",
    "                DISTINCT rt.username \n",
    "            FROM \n",
    "                ratings AS rt\n",
    "            GROUP BY \n",
    "                rt.username\n",
    "            HAVING \n",
    "                COUNT(rt.rating_id) > 50\n",
    "                )\n",
    "\"\"\"\n",
    "con = engine.connect()\n",
    "result = pd.io.sql.read_sql(sql=text(query), con=con)\n",
    "print(f'Cреднее количество обзоров от пользователей, которые поставили больше 48 оценок, составляет {result[\"ratio\"][0]}.')"
   ]
  },
  {
   "cell_type": "markdown",
   "metadata": {},
   "source": [
    "## Общий вывод"
   ]
  },
  {
   "cell_type": "markdown",
   "metadata": {},
   "source": [
    "Результат анализа показал что:\n",
    "* **Книжная индустрия активно развивается**: после 1 января 2000 года было выпущено 821 книга.  \n",
    "* **Пользователи активно оценивают книги**: в среднем, каждая книга получает **24 отзыва** и **4.30 балла**.\n",
    "* **\"A Clash of Kings\"** — самая обсуждаемая книга: у нее **115 отзывов** и **4.39 балла**.\n",
    "* **Penguin Books** — **самое популярное издательство**: оно выпустило **42 книги** толще 50 страниц.\n",
    "* **Twilight (Twilight #1)** — **аимеет наибольшее количество обзоров (7)**.\n",
    "* **Harry Potter and the Prisoner of Azkaban** — **меет самую высокую среднюю оценку в 4.41 балл**.\n",
    "* **Пользователи, которые поставили более 48 оценок**, в среднем пишут **24 отзыва**.\n",
    "\n",
    "Эти данные  позволяют сделать следующие **выводы**:\n",
    "\n",
    "* **Пользователи интересуются новыми книгами**, поэтому **важно обновлять ассортимент** сервиса свежими изданиями. \n",
    "* **Книги с высокой оценкой и большим количеством отзывов пользуются популярностью**:  это может быть использовано для **продвижения** и **рекомендации** новых пользователей. \n",
    "* **Penguin Books — успешное издательство**,  на которое стоит обратить внимание при формировании ассортимента. \n",
    "* **Twilight и The Hobbit**, показывают, что **высокая активность** пользователей также **имеет значение при выборе литературы**.\n",
    "\n",
    "   \n",
    "<u>Пользователи, которые активно оставляют отзывы, играют важную роль в формировании рекомендаций для других пользователей.  \n",
    "Важно отметить, что даже у книг с относительным небольшим количеством отзывов, как это показано на примере **`Harry Potter`**, может быть высокая оценка, что свидетельствует о качестве контента.<u>"
   ]
  },
  {
   "cell_type": "markdown",
   "metadata": {},
   "source": [
    "<div class=\"alert alert-warning\">\n",
    "    \n",
    "  <b>Комментарий тимлида</b>\n",
    "    \n",
    "  ⚠️ Также обрати, пожалуйста, внимание на формирование содержания с ссылками. \n",
    "\n",
    "Содержание формируется по заголовкам разного уровня: заголовок первого уровня, начинается с одной #, обычно ставят название проекта, далее каждый шаг помечается как заголовок второго уровня ##, выводы как заголовок третьего ###, подпункты в шаге можно четвертым уровнем пометить ####\n",
    "</div>"
   ]
  }
 ],
 "metadata": {
  "ExecuteTimeLog": [
   {
    "duration": 6462,
    "start_time": "2024-09-05T07:21:14.264Z"
   },
   {
    "duration": 53,
    "start_time": "2024-09-05T08:21:54.631Z"
   },
   {
    "duration": 51,
    "start_time": "2024-09-05T08:22:00.802Z"
   },
   {
    "duration": 56,
    "start_time": "2024-09-05T08:22:13.671Z"
   },
   {
    "duration": 56,
    "start_time": "2024-09-05T08:22:32.263Z"
   },
   {
    "duration": 48,
    "start_time": "2024-09-05T08:23:01.775Z"
   },
   {
    "duration": 45,
    "start_time": "2024-09-05T08:23:28.462Z"
   },
   {
    "duration": 3,
    "start_time": "2024-09-05T08:31:10.930Z"
   },
   {
    "duration": 4,
    "start_time": "2024-09-05T08:32:47.073Z"
   },
   {
    "duration": 52,
    "start_time": "2024-09-05T08:33:39.882Z"
   },
   {
    "duration": 50,
    "start_time": "2024-09-05T08:33:46.422Z"
   },
   {
    "duration": 46,
    "start_time": "2024-09-05T08:34:49.241Z"
   },
   {
    "duration": 44,
    "start_time": "2024-09-05T08:35:02.561Z"
   },
   {
    "duration": 40,
    "start_time": "2024-09-05T08:36:21.693Z"
   },
   {
    "duration": 44,
    "start_time": "2024-09-05T08:37:28.441Z"
   },
   {
    "duration": 4,
    "start_time": "2024-09-05T08:38:00.501Z"
   },
   {
    "duration": 9,
    "start_time": "2024-09-05T08:40:17.261Z"
   },
   {
    "duration": 19,
    "start_time": "2024-09-05T08:40:30.381Z"
   },
   {
    "duration": 18,
    "start_time": "2024-09-05T08:42:04.981Z"
   },
   {
    "duration": 26,
    "start_time": "2024-09-05T08:42:22.081Z"
   },
   {
    "duration": 19,
    "start_time": "2024-09-05T08:42:46.240Z"
   },
   {
    "duration": 19,
    "start_time": "2024-09-05T08:42:51.318Z"
   },
   {
    "duration": 16,
    "start_time": "2024-09-05T08:44:39.713Z"
   },
   {
    "duration": 16,
    "start_time": "2024-09-05T08:48:59.895Z"
   },
   {
    "duration": 16,
    "start_time": "2024-09-05T08:49:10.981Z"
   },
   {
    "duration": 17,
    "start_time": "2024-09-05T08:49:21.761Z"
   },
   {
    "duration": 16,
    "start_time": "2024-09-05T08:49:46.001Z"
   },
   {
    "duration": 75,
    "start_time": "2024-09-05T08:51:18.341Z"
   },
   {
    "duration": 198,
    "start_time": "2024-09-05T08:51:31.706Z"
   },
   {
    "duration": 8,
    "start_time": "2024-09-05T08:52:23.718Z"
   },
   {
    "duration": 16,
    "start_time": "2024-09-05T08:52:38.582Z"
   },
   {
    "duration": 10,
    "start_time": "2024-09-05T08:54:14.929Z"
   },
   {
    "duration": 2,
    "start_time": "2024-09-05T08:54:19.101Z"
   },
   {
    "duration": 9,
    "start_time": "2024-09-05T08:54:21.150Z"
   },
   {
    "duration": 10,
    "start_time": "2024-09-05T08:54:35.717Z"
   },
   {
    "duration": 53,
    "start_time": "2024-09-05T08:55:19.481Z"
   },
   {
    "duration": 11,
    "start_time": "2024-09-05T08:55:41.400Z"
   },
   {
    "duration": 47,
    "start_time": "2024-09-05T09:02:27.673Z"
   },
   {
    "duration": 90,
    "start_time": "2024-09-05T09:02:43.061Z"
   },
   {
    "duration": 45,
    "start_time": "2024-09-05T09:02:58.441Z"
   },
   {
    "duration": 57,
    "start_time": "2024-09-05T09:07:02.681Z"
   },
   {
    "duration": 30,
    "start_time": "2024-09-05T09:15:22.421Z"
   },
   {
    "duration": 47,
    "start_time": "2024-09-05T09:15:48.560Z"
   },
   {
    "duration": 5,
    "start_time": "2024-09-05T09:16:51.640Z"
   },
   {
    "duration": 42,
    "start_time": "2024-09-05T09:18:53.153Z"
   },
   {
    "duration": 8,
    "start_time": "2024-09-05T09:19:08.048Z"
   },
   {
    "duration": 25,
    "start_time": "2024-09-05T09:21:42.553Z"
   },
   {
    "duration": 29,
    "start_time": "2024-09-05T09:21:48.413Z"
   },
   {
    "duration": 30,
    "start_time": "2024-09-05T09:23:39.061Z"
   },
   {
    "duration": 66,
    "start_time": "2024-09-05T09:27:55.073Z"
   },
   {
    "duration": 63,
    "start_time": "2024-09-05T09:29:14.029Z"
   },
   {
    "duration": 48,
    "start_time": "2024-09-05T09:29:58.929Z"
   },
   {
    "duration": 12,
    "start_time": "2024-09-05T09:34:09.702Z"
   },
   {
    "duration": 10,
    "start_time": "2024-09-05T09:36:11.629Z"
   },
   {
    "duration": 10,
    "start_time": "2024-09-05T09:36:47.061Z"
   },
   {
    "duration": 13,
    "start_time": "2024-09-05T09:38:53.394Z"
   },
   {
    "duration": 14,
    "start_time": "2024-09-05T09:40:23.600Z"
   },
   {
    "duration": 13,
    "start_time": "2024-09-05T09:43:45.701Z"
   },
   {
    "duration": 11,
    "start_time": "2024-09-05T09:43:50.672Z"
   },
   {
    "duration": 47,
    "start_time": "2024-09-05T09:47:01.080Z"
   },
   {
    "duration": 44,
    "start_time": "2024-09-05T09:47:03.889Z"
   },
   {
    "duration": 13,
    "start_time": "2024-09-05T09:47:09.252Z"
   },
   {
    "duration": 13,
    "start_time": "2024-09-05T09:47:29.272Z"
   },
   {
    "duration": 12,
    "start_time": "2024-09-05T09:47:47.052Z"
   },
   {
    "duration": 12,
    "start_time": "2024-09-05T09:50:28.892Z"
   },
   {
    "duration": 23,
    "start_time": "2024-09-05T09:54:02.840Z"
   },
   {
    "duration": 12,
    "start_time": "2024-09-05T09:54:30.363Z"
   },
   {
    "duration": 44,
    "start_time": "2024-09-05T09:54:31.188Z"
   },
   {
    "duration": 15,
    "start_time": "2024-09-05T09:55:07.431Z"
   },
   {
    "duration": 58,
    "start_time": "2024-09-05T09:59:46.931Z"
   },
   {
    "duration": 21,
    "start_time": "2024-09-05T10:00:06.218Z"
   },
   {
    "duration": 19,
    "start_time": "2024-09-05T10:00:17.998Z"
   },
   {
    "duration": 13,
    "start_time": "2024-09-05T10:00:47.699Z"
   },
   {
    "duration": 47,
    "start_time": "2024-09-05T14:38:11.337Z"
   },
   {
    "duration": 8,
    "start_time": "2024-09-05T14:38:17.565Z"
   },
   {
    "duration": 523,
    "start_time": "2024-09-05T14:38:24.274Z"
   },
   {
    "duration": 7386,
    "start_time": "2024-09-05T14:38:24.799Z"
   },
   {
    "duration": 199,
    "start_time": "2024-09-05T14:38:32.186Z"
   },
   {
    "duration": 0,
    "start_time": "2024-09-05T14:38:32.388Z"
   },
   {
    "duration": 0,
    "start_time": "2024-09-05T14:38:32.389Z"
   },
   {
    "duration": 0,
    "start_time": "2024-09-05T14:38:32.391Z"
   },
   {
    "duration": 0,
    "start_time": "2024-09-05T14:38:32.392Z"
   },
   {
    "duration": 0,
    "start_time": "2024-09-05T14:38:32.394Z"
   },
   {
    "duration": 0,
    "start_time": "2024-09-05T14:38:32.396Z"
   },
   {
    "duration": 0,
    "start_time": "2024-09-05T14:38:32.398Z"
   },
   {
    "duration": 132,
    "start_time": "2024-09-05T14:38:38.904Z"
   },
   {
    "duration": 54,
    "start_time": "2024-09-05T14:39:30.177Z"
   },
   {
    "duration": 53,
    "start_time": "2024-09-05T14:39:42.705Z"
   },
   {
    "duration": 53,
    "start_time": "2024-09-05T14:39:47.657Z"
   },
   {
    "duration": 50,
    "start_time": "2024-09-05T14:41:30.965Z"
   },
   {
    "duration": 52,
    "start_time": "2024-09-05T14:41:38.226Z"
   },
   {
    "duration": 55,
    "start_time": "2024-09-05T14:42:50.313Z"
   },
   {
    "duration": 53,
    "start_time": "2024-09-05T14:43:00.106Z"
   },
   {
    "duration": 55,
    "start_time": "2024-09-05T14:44:40.822Z"
   },
   {
    "duration": 53,
    "start_time": "2024-09-05T14:44:42.777Z"
   },
   {
    "duration": 55,
    "start_time": "2024-09-05T14:44:54.617Z"
   },
   {
    "duration": 55,
    "start_time": "2024-09-05T14:44:59.457Z"
   },
   {
    "duration": 59,
    "start_time": "2024-09-05T14:45:05.698Z"
   },
   {
    "duration": 57,
    "start_time": "2024-09-05T14:45:21.665Z"
   },
   {
    "duration": 56,
    "start_time": "2024-09-05T14:48:37.873Z"
   },
   {
    "duration": 60,
    "start_time": "2024-09-05T14:49:04.021Z"
   },
   {
    "duration": 57,
    "start_time": "2024-09-05T14:49:14.754Z"
   },
   {
    "duration": 57,
    "start_time": "2024-09-05T14:49:55.526Z"
   },
   {
    "duration": 55,
    "start_time": "2024-09-05T14:50:54.737Z"
   },
   {
    "duration": 75,
    "start_time": "2024-09-05T14:52:05.745Z"
   },
   {
    "duration": 63,
    "start_time": "2024-09-05T14:52:14.425Z"
   },
   {
    "duration": 150,
    "start_time": "2024-09-05T14:52:22.013Z"
   },
   {
    "duration": 143,
    "start_time": "2024-09-05T14:56:29.422Z"
   },
   {
    "duration": 53,
    "start_time": "2024-09-05T14:56:45.258Z"
   },
   {
    "duration": 177,
    "start_time": "2024-09-05T14:57:29.234Z"
   },
   {
    "duration": 2,
    "start_time": "2024-09-05T14:57:34.062Z"
   },
   {
    "duration": 241,
    "start_time": "2024-09-05T14:57:34.373Z"
   },
   {
    "duration": 233,
    "start_time": "2024-09-05T14:57:34.719Z"
   },
   {
    "duration": 9,
    "start_time": "2024-09-05T14:57:35.294Z"
   },
   {
    "duration": 175,
    "start_time": "2024-09-05T14:57:37.085Z"
   },
   {
    "duration": 200,
    "start_time": "2024-09-05T14:58:05.703Z"
   },
   {
    "duration": 240,
    "start_time": "2024-09-05T14:58:09.034Z"
   },
   {
    "duration": 1083,
    "start_time": "2024-09-05T14:58:44.955Z"
   },
   {
    "duration": 11,
    "start_time": "2024-09-05T14:58:46.818Z"
   },
   {
    "duration": 3,
    "start_time": "2024-09-05T15:00:23.613Z"
   },
   {
    "duration": 233,
    "start_time": "2024-09-05T15:00:24.108Z"
   },
   {
    "duration": 202,
    "start_time": "2024-09-05T15:00:24.999Z"
   },
   {
    "duration": 1166,
    "start_time": "2024-09-05T15:00:27.651Z"
   },
   {
    "duration": 1147,
    "start_time": "2024-09-05T15:01:29.063Z"
   },
   {
    "duration": 0,
    "start_time": "2024-09-05T15:01:30.212Z"
   },
   {
    "duration": 212,
    "start_time": "2024-09-05T15:02:59.220Z"
   },
   {
    "duration": 12,
    "start_time": "2024-09-05T15:02:59.776Z"
   },
   {
    "duration": 11,
    "start_time": "2024-09-05T15:02:59.996Z"
   },
   {
    "duration": 492,
    "start_time": "2024-09-05T15:17:51.001Z"
   },
   {
    "duration": 7443,
    "start_time": "2024-09-05T15:17:51.495Z"
   },
   {
    "duration": 211,
    "start_time": "2024-09-05T15:17:58.940Z"
   },
   {
    "duration": 9,
    "start_time": "2024-09-05T15:17:59.153Z"
   },
   {
    "duration": 25,
    "start_time": "2024-09-05T15:17:59.164Z"
   },
   {
    "duration": 196,
    "start_time": "2024-09-05T15:17:59.191Z"
   },
   {
    "duration": 0,
    "start_time": "2024-09-05T15:17:59.388Z"
   },
   {
    "duration": 0,
    "start_time": "2024-09-05T15:17:59.390Z"
   },
   {
    "duration": 0,
    "start_time": "2024-09-05T15:17:59.390Z"
   },
   {
    "duration": 0,
    "start_time": "2024-09-05T15:17:59.391Z"
   },
   {
    "duration": 49,
    "start_time": "2024-09-05T15:18:27.821Z"
   },
   {
    "duration": 50,
    "start_time": "2024-09-05T15:18:44.012Z"
   },
   {
    "duration": 49,
    "start_time": "2024-09-05T15:20:15.089Z"
   },
   {
    "duration": 49,
    "start_time": "2024-09-05T15:21:27.501Z"
   },
   {
    "duration": 50,
    "start_time": "2024-09-05T15:21:42.199Z"
   },
   {
    "duration": 63,
    "start_time": "2024-09-05T15:21:48.861Z"
   },
   {
    "duration": 503,
    "start_time": "2024-09-05T15:22:00.780Z"
   },
   {
    "duration": 7142,
    "start_time": "2024-09-05T15:22:01.285Z"
   },
   {
    "duration": 218,
    "start_time": "2024-09-05T15:22:08.429Z"
   },
   {
    "duration": 9,
    "start_time": "2024-09-05T15:22:08.648Z"
   },
   {
    "duration": 19,
    "start_time": "2024-09-05T15:22:08.659Z"
   },
   {
    "duration": 129,
    "start_time": "2024-09-05T15:22:08.679Z"
   },
   {
    "duration": 63,
    "start_time": "2024-09-05T15:22:08.810Z"
   },
   {
    "duration": 54,
    "start_time": "2024-09-05T15:22:08.875Z"
   },
   {
    "duration": 1376,
    "start_time": "2024-09-05T15:22:08.930Z"
   },
   {
    "duration": 52,
    "start_time": "2024-09-05T15:22:10.308Z"
   },
   {
    "duration": 55,
    "start_time": "2024-09-05T15:24:49.040Z"
   },
   {
    "duration": 55,
    "start_time": "2024-09-05T15:25:31.380Z"
   },
   {
    "duration": 139,
    "start_time": "2024-09-05T15:27:00.128Z"
   },
   {
    "duration": 62,
    "start_time": "2024-09-05T15:28:39.095Z"
   },
   {
    "duration": 126,
    "start_time": "2024-09-05T15:29:16.769Z"
   },
   {
    "duration": 58,
    "start_time": "2024-09-05T15:29:25.780Z"
   },
   {
    "duration": 80,
    "start_time": "2024-09-05T15:30:14.903Z"
   },
   {
    "duration": 63,
    "start_time": "2024-09-05T15:31:03.901Z"
   },
   {
    "duration": 127,
    "start_time": "2024-09-05T15:31:15.348Z"
   },
   {
    "duration": 152,
    "start_time": "2024-09-05T15:31:42.217Z"
   },
   {
    "duration": 93,
    "start_time": "2024-09-05T15:32:22.481Z"
   },
   {
    "duration": 171,
    "start_time": "2024-09-05T15:32:29.941Z"
   },
   {
    "duration": 56,
    "start_time": "2024-09-05T15:33:17.112Z"
   },
   {
    "duration": 53,
    "start_time": "2024-09-05T15:34:27.411Z"
   },
   {
    "duration": 51,
    "start_time": "2024-09-05T15:38:07.171Z"
   },
   {
    "duration": 528,
    "start_time": "2024-09-05T15:38:14.867Z"
   },
   {
    "duration": 9165,
    "start_time": "2024-09-05T15:38:15.397Z"
   },
   {
    "duration": 202,
    "start_time": "2024-09-05T15:38:24.564Z"
   },
   {
    "duration": 9,
    "start_time": "2024-09-05T15:38:24.769Z"
   },
   {
    "duration": 22,
    "start_time": "2024-09-05T15:38:24.779Z"
   },
   {
    "duration": 123,
    "start_time": "2024-09-05T15:38:24.802Z"
   },
   {
    "duration": 61,
    "start_time": "2024-09-05T15:38:24.927Z"
   },
   {
    "duration": 54,
    "start_time": "2024-09-05T15:38:24.990Z"
   },
   {
    "duration": 57,
    "start_time": "2024-09-05T15:38:25.045Z"
   },
   {
    "duration": 51,
    "start_time": "2024-09-05T15:38:25.104Z"
   },
   {
    "duration": 558,
    "start_time": "2024-09-06T06:10:49.231Z"
   },
   {
    "duration": 8893,
    "start_time": "2024-09-06T06:10:49.792Z"
   },
   {
    "duration": 216,
    "start_time": "2024-09-06T06:10:58.687Z"
   },
   {
    "duration": 9,
    "start_time": "2024-09-06T06:10:58.904Z"
   },
   {
    "duration": 34,
    "start_time": "2024-09-06T06:10:58.915Z"
   },
   {
    "duration": 132,
    "start_time": "2024-09-06T06:10:58.951Z"
   },
   {
    "duration": 63,
    "start_time": "2024-09-06T06:10:59.085Z"
   },
   {
    "duration": 55,
    "start_time": "2024-09-06T06:10:59.149Z"
   },
   {
    "duration": 68,
    "start_time": "2024-09-06T06:10:59.206Z"
   },
   {
    "duration": 57,
    "start_time": "2024-09-06T06:10:59.276Z"
   },
   {
    "duration": 89,
    "start_time": "2024-09-06T06:12:33.575Z"
   },
   {
    "duration": 90,
    "start_time": "2024-09-06T06:12:51.152Z"
   },
   {
    "duration": 64,
    "start_time": "2024-09-06T06:12:54.642Z"
   },
   {
    "duration": 533,
    "start_time": "2024-09-06T07:10:13.656Z"
   },
   {
    "duration": 5763,
    "start_time": "2024-09-06T07:10:14.191Z"
   },
   {
    "duration": 66,
    "start_time": "2024-09-06T07:10:19.956Z"
   },
   {
    "duration": 10,
    "start_time": "2024-09-06T07:10:20.023Z"
   },
   {
    "duration": 46,
    "start_time": "2024-09-06T07:10:20.035Z"
   },
   {
    "duration": 58,
    "start_time": "2024-09-06T07:10:20.082Z"
   },
   {
    "duration": 21,
    "start_time": "2024-09-06T07:10:20.141Z"
   },
   {
    "duration": 12,
    "start_time": "2024-09-06T07:10:20.164Z"
   },
   {
    "duration": 38,
    "start_time": "2024-09-06T07:10:20.177Z"
   },
   {
    "duration": 13,
    "start_time": "2024-09-06T07:10:20.217Z"
   },
   {
    "duration": 3,
    "start_time": "2024-09-06T07:58:11.991Z"
   },
   {
    "duration": 62,
    "start_time": "2024-09-06T07:58:11.996Z"
   },
   {
    "duration": 68,
    "start_time": "2024-09-06T07:58:12.060Z"
   },
   {
    "duration": 9,
    "start_time": "2024-09-06T07:58:12.130Z"
   },
   {
    "duration": 41,
    "start_time": "2024-09-06T07:58:12.141Z"
   },
   {
    "duration": 38,
    "start_time": "2024-09-06T07:58:12.184Z"
   },
   {
    "duration": 24,
    "start_time": "2024-09-06T07:58:12.223Z"
   },
   {
    "duration": 24,
    "start_time": "2024-09-06T07:58:12.249Z"
   },
   {
    "duration": 18,
    "start_time": "2024-09-06T07:58:12.275Z"
   },
   {
    "duration": 16,
    "start_time": "2024-09-06T07:58:12.295Z"
   },
   {
    "duration": 30,
    "start_time": "2024-09-06T08:05:57.810Z"
   },
   {
    "duration": 32,
    "start_time": "2024-09-06T08:09:58.758Z"
   },
   {
    "duration": 33,
    "start_time": "2024-09-06T08:11:08.326Z"
   },
   {
    "duration": 33,
    "start_time": "2024-09-06T08:11:23.809Z"
   },
   {
    "duration": 33,
    "start_time": "2024-09-06T08:11:42.329Z"
   },
   {
    "duration": 31,
    "start_time": "2024-09-06T08:11:48.201Z"
   },
   {
    "duration": 31,
    "start_time": "2024-09-06T08:11:55.470Z"
   },
   {
    "duration": 31,
    "start_time": "2024-09-06T08:12:00.167Z"
   },
   {
    "duration": 58,
    "start_time": "2024-09-06T08:14:17.022Z"
   },
   {
    "duration": 22,
    "start_time": "2024-09-06T08:14:25.889Z"
   },
   {
    "duration": 834,
    "start_time": "2024-09-06T08:15:44.805Z"
   },
   {
    "duration": 7,
    "start_time": "2024-09-06T08:16:51.640Z"
   },
   {
    "duration": 12,
    "start_time": "2024-09-06T08:17:16.408Z"
   },
   {
    "duration": 21,
    "start_time": "2024-09-06T08:17:44.389Z"
   },
   {
    "duration": 27,
    "start_time": "2024-09-06T08:18:43.196Z"
   },
   {
    "duration": 22,
    "start_time": "2024-09-06T08:24:17.248Z"
   },
   {
    "duration": 25,
    "start_time": "2024-09-06T08:27:12.447Z"
   },
   {
    "duration": 50,
    "start_time": "2024-09-06T08:28:55.616Z"
   },
   {
    "duration": 25,
    "start_time": "2024-09-06T08:29:12.544Z"
   },
   {
    "duration": 26,
    "start_time": "2024-09-06T08:31:37.527Z"
   },
   {
    "duration": 186,
    "start_time": "2024-09-06T08:31:53.116Z"
   },
   {
    "duration": 26,
    "start_time": "2024-09-06T08:35:59.959Z"
   },
   {
    "duration": 32,
    "start_time": "2024-09-06T08:38:34.186Z"
   },
   {
    "duration": 21,
    "start_time": "2024-09-06T08:38:57.917Z"
   },
   {
    "duration": 22,
    "start_time": "2024-09-06T08:39:05.486Z"
   },
   {
    "duration": 23,
    "start_time": "2024-09-06T08:43:31.945Z"
   },
   {
    "duration": 21,
    "start_time": "2024-09-06T08:43:39.816Z"
   },
   {
    "duration": 228,
    "start_time": "2024-09-06T08:45:16.531Z"
   },
   {
    "duration": 220,
    "start_time": "2024-09-06T08:46:25.324Z"
   },
   {
    "duration": 228,
    "start_time": "2024-09-06T08:46:31.824Z"
   },
   {
    "duration": 20,
    "start_time": "2024-09-06T08:47:52.736Z"
   },
   {
    "duration": 20,
    "start_time": "2024-09-06T08:48:41.124Z"
   },
   {
    "duration": 19,
    "start_time": "2024-09-06T08:48:42.599Z"
   },
   {
    "duration": 19,
    "start_time": "2024-09-06T08:48:46.323Z"
   },
   {
    "duration": 22,
    "start_time": "2024-09-06T08:48:53.891Z"
   },
   {
    "duration": 52,
    "start_time": "2024-09-06T08:49:27.403Z"
   },
   {
    "duration": 24,
    "start_time": "2024-09-06T08:49:50.459Z"
   },
   {
    "duration": 22,
    "start_time": "2024-09-06T08:55:06.842Z"
   },
   {
    "duration": 20,
    "start_time": "2024-09-06T08:55:46.082Z"
   },
   {
    "duration": 50,
    "start_time": "2024-09-06T08:55:56.310Z"
   },
   {
    "duration": 46,
    "start_time": "2024-09-06T08:56:08.014Z"
   },
   {
    "duration": 347,
    "start_time": "2024-09-06T08:56:21.146Z"
   },
   {
    "duration": 45,
    "start_time": "2024-09-06T08:56:37.543Z"
   },
   {
    "duration": 27,
    "start_time": "2024-09-06T09:01:49.149Z"
   },
   {
    "duration": 31,
    "start_time": "2024-09-06T09:03:07.274Z"
   },
   {
    "duration": 26,
    "start_time": "2024-09-06T09:03:15.840Z"
   },
   {
    "duration": 24,
    "start_time": "2024-09-06T09:03:20.173Z"
   },
   {
    "duration": 25,
    "start_time": "2024-09-06T09:04:05.620Z"
   },
   {
    "duration": 23,
    "start_time": "2024-09-06T09:04:18.473Z"
   },
   {
    "duration": 28,
    "start_time": "2024-09-06T09:04:25.709Z"
   },
   {
    "duration": 29,
    "start_time": "2024-09-06T09:04:32.088Z"
   },
   {
    "duration": 18,
    "start_time": "2024-09-06T09:13:56.540Z"
   },
   {
    "duration": 16,
    "start_time": "2024-09-06T09:17:15.319Z"
   },
   {
    "duration": 16,
    "start_time": "2024-09-06T09:18:41.979Z"
   },
   {
    "duration": 17,
    "start_time": "2024-09-06T09:21:55.306Z"
   },
   {
    "duration": 17,
    "start_time": "2024-09-06T09:23:08.358Z"
   },
   {
    "duration": 18,
    "start_time": "2024-09-06T09:26:18.186Z"
   },
   {
    "duration": 16,
    "start_time": "2024-09-06T09:26:39.005Z"
   },
   {
    "duration": 17,
    "start_time": "2024-09-06T09:27:01.147Z"
   },
   {
    "duration": 16,
    "start_time": "2024-09-06T09:27:18.197Z"
   },
   {
    "duration": 50,
    "start_time": "2024-09-06T09:28:20.617Z"
   },
   {
    "duration": 52,
    "start_time": "2024-09-06T09:28:32.017Z"
   },
   {
    "duration": 51,
    "start_time": "2024-09-06T09:28:40.702Z"
   },
   {
    "duration": 556,
    "start_time": "2024-09-06T09:35:34.384Z"
   },
   {
    "duration": 5533,
    "start_time": "2024-09-06T09:35:34.942Z"
   },
   {
    "duration": 65,
    "start_time": "2024-09-06T09:35:40.476Z"
   },
   {
    "duration": 8,
    "start_time": "2024-09-06T09:35:40.543Z"
   },
   {
    "duration": 37,
    "start_time": "2024-09-06T09:35:40.553Z"
   },
   {
    "duration": 48,
    "start_time": "2024-09-06T09:35:40.592Z"
   },
   {
    "duration": 37,
    "start_time": "2024-09-06T09:35:40.641Z"
   },
   {
    "duration": 29,
    "start_time": "2024-09-06T09:35:40.679Z"
   },
   {
    "duration": 16,
    "start_time": "2024-09-06T09:35:40.709Z"
   },
   {
    "duration": 42,
    "start_time": "2024-09-06T09:35:40.727Z"
   },
   {
    "duration": 10,
    "start_time": "2024-09-06T09:35:40.771Z"
   },
   {
    "duration": 503,
    "start_time": "2024-09-06T15:53:00.696Z"
   },
   {
    "duration": 9070,
    "start_time": "2024-09-06T15:53:01.200Z"
   },
   {
    "duration": 216,
    "start_time": "2024-09-06T15:53:10.271Z"
   },
   {
    "duration": 8,
    "start_time": "2024-09-06T15:53:10.489Z"
   },
   {
    "duration": 13,
    "start_time": "2024-09-06T15:53:10.499Z"
   },
   {
    "duration": 124,
    "start_time": "2024-09-06T15:53:10.514Z"
   },
   {
    "duration": 68,
    "start_time": "2024-09-06T15:53:10.639Z"
   },
   {
    "duration": 68,
    "start_time": "2024-09-06T15:53:10.709Z"
   },
   {
    "duration": 52,
    "start_time": "2024-09-06T15:53:10.779Z"
   },
   {
    "duration": 84,
    "start_time": "2024-09-06T15:53:10.833Z"
   },
   {
    "duration": 51,
    "start_time": "2024-09-06T15:53:10.919Z"
   },
   {
    "duration": 67,
    "start_time": "2024-09-06T15:54:17.985Z"
   },
   {
    "duration": 271,
    "start_time": "2024-09-06T15:54:36.830Z"
   },
   {
    "duration": 67,
    "start_time": "2024-09-06T15:54:42.253Z"
   },
   {
    "duration": 258,
    "start_time": "2024-09-06T15:54:56.142Z"
   },
   {
    "duration": 69,
    "start_time": "2024-09-06T15:55:03.129Z"
   }
  ],
  "kernelspec": {
   "display_name": "Python 3 (ipykernel)",
   "language": "python",
   "name": "python3"
  },
  "language_info": {
   "codemirror_mode": {
    "name": "ipython",
    "version": 3
   },
   "file_extension": ".py",
   "mimetype": "text/x-python",
   "name": "python",
   "nbconvert_exporter": "python",
   "pygments_lexer": "ipython3",
   "version": "3.11.9"
  },
  "toc": {
   "base_numbering": 1,
   "nav_menu": {},
   "number_sections": true,
   "sideBar": true,
   "skip_h1_title": true,
   "title_cell": "Table of Contents",
   "title_sidebar": "Contents",
   "toc_cell": false,
   "toc_position": {
    "height": "calc(100% - 180px)",
    "left": "10px",
    "top": "150px",
    "width": "407.037506px"
   },
   "toc_section_display": true,
   "toc_window_display": true
  }
 },
 "nbformat": 4,
 "nbformat_minor": 4
}
