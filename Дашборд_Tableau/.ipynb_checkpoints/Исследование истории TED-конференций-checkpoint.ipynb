{
 "cells": [
  {
   "cell_type": "markdown",
   "id": "498489f6",
   "metadata": {},
   "source": [
    "# Исследование истории TED-конференций"
   ]
  },
  {
   "cell_type": "markdown",
   "id": "b862543e",
   "metadata": {},
   "source": [
    "## Описание проекта\n",
    "\n",
    "TED (от англ. technology, education, design — «технологии, образование, дизайн») — некоммерческий фонд, который проводит популярные конференции. На них выступают специалисты из разных областей и читают лекции на актуальные социальные, культурные и научные темы. \n",
    "В разное время на TED-конференциях выступали математик Бенуа Мандельброт, теоретик искусственного интеллекта Марвин Минский, спортсменка Дана Ньяд и основатель Google Ларри Пейдж. В истории TED также были неоднозначные и даже скандальные выступления. Например, в 2010 году на конференции выступил Рэнди Пауэлл с рассказом о псевдонаучной «вихревой математике», а в 2014 году в конференции TEDMED участвовала Элизабет Холмс — основательница печально известного стартапа Theranos."
   ]
  },
  {
   "cell_type": "markdown",
   "id": "aae4e112",
   "metadata": {},
   "source": [
    "**Описание данных**\n",
    "\n",
    "Файлы tableau_project_data_1.csv, tableau_project_data_2.csv, tableau_project_data_3.csv хранят данные выступлений. У них одинаковая структура:\n",
    "- talk_id — идентификатор выступления;\n",
    "- url — ссылка на запись выступления;\n",
    "- title — название выступления;\n",
    "- description — краткое описание;\n",
    "- film_date — дата записи выступления;\n",
    "- duration — длительность в секундах;\n",
    "- views — количество просмотров;\n",
    "- main_tag — основная категория, к которой относится выступление;\n",
    "- speaker_id — уникальный идентификатор автора выступления;\n",
    "- laughter_count — количество раз, когда аудитория смеялась в ходе выступления;\n",
    "- applause_count — количество раз, когда аудитория аплодировала в ходе выступления;\n",
    "- language — язык, на котором велось выступление;\n",
    "- event_id — уникальный идентификатор конференции.\n",
    "\n",
    "Файл tableau_project_event_dict.csv — справочник конференций. Описание таблицы:\n",
    "- conf_id — уникальный идентификатор конференции;\n",
    "- event — название конференции;\n",
    "- country — страна проведения конференции.\n",
    "\n",
    "Файл tableau_project_speakers_dict.csv — справочник авторов выступления. Описание таблицы:\n",
    "- author_id — уникальный идентификатор автора выступления;\n",
    "- speaker_name — имя автора;\n",
    "- speaker_occupation — профессиональная область автора;\n",
    "- speaker_description — описание профессиональной деятельности автора.\n",
    "\n",
    "\n"
   ]
  },
  {
   "cell_type": "markdown",
   "id": "5dd45cf9",
   "metadata": {},
   "source": [
    "В этом проекте было исследование истории TED-конференций с помощью Tableau.\n",
    "\n",
    "Ниже ссылка на работу:"
   ]
  },
  {
   "cell_type": "markdown",
   "id": "f4e3f759",
   "metadata": {},
   "source": [
    "https://public.tableau.com/app/profile/zara.zara/viz/TED_16945400260470/sheet4?publish=yes"
   ]
  }
 ],
 "metadata": {
  "kernelspec": {
   "display_name": "Python 3 (ipykernel)",
   "language": "python",
   "name": "python3"
  },
  "language_info": {
   "codemirror_mode": {
    "name": "ipython",
    "version": 3
   },
   "file_extension": ".py",
   "mimetype": "text/x-python",
   "name": "python",
   "nbconvert_exporter": "python",
   "pygments_lexer": "ipython3",
   "version": "3.11.4"
  },
  "toc": {
   "base_numbering": 1,
   "nav_menu": {},
   "number_sections": false,
   "sideBar": true,
   "skip_h1_title": true,
   "title_cell": "Table of Contents",
   "title_sidebar": "Contents",
   "toc_cell": false,
   "toc_position": {},
   "toc_section_display": true,
   "toc_window_display": false
  }
 },
 "nbformat": 4,
 "nbformat_minor": 5
}
